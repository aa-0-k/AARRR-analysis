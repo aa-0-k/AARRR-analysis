{
 "cells": [
  {
   "cell_type": "code",
   "execution_count": 24,
   "id": "a196f358-9796-4eba-be79-2412828ac5b0",
   "metadata": {},
   "outputs": [
    {
     "name": "stdout",
     "output_type": "stream",
     "text": [
      "olist_customers.csv olist_customers\n",
      "📌 olist_customers.csv → olist_customers 테이블로 업로드 중...\n",
      "✅ olist_customers 테이블 업로드 완료! \n",
      "\n",
      "olist_geolocation.csv olist_geolocation\n",
      "📌 olist_geolocation.csv → olist_geolocation 테이블로 업로드 중...\n"
     ]
    },
    {
     "name": "stderr",
     "output_type": "stream",
     "text": [
      "\n",
      "KeyboardInterrupt\n",
      "\n"
     ]
    }
   ],
   "source": [
    "import pandas as pd\n",
    "from sqlalchemy import create_engine\n",
    "import pymysql\n",
    "import os\n",
    "\n",
    "# 1️⃣ MySQL 연결 설정\n",
    "user = \"root\"  # MySQL 사용자 이름\n",
    "password = \"7492!\"  # MySQL 비밀번호\n",
    "host = \"localhost\"  # MySQL 서버 주소\n",
    "database = \"aarrr\"  # 사용할 데이터베이스 이름\n",
    "\n",
    "# SQLAlchemy 엔진 생성 (MySQL 연결)\n",
    "engine = create_engine(f\"mysql+pymysql://{user}:{password}@{host}/{database}\")\n",
    "\n",
    "# 2️⃣ 업로드할 CSV 파일 리스트\n",
    "#폴더 경로 지정하기\n",
    "path='../AARRR분석'\n",
    "#해당 폴더 안에 있는 파일 리스트 불러오기\n",
    "for file in os.listdir(path):\n",
    "    if 'csv' in file:\n",
    "        table_name = file.replace(\".csv\", \"\")  # 파일명에서 확장자 제거하여 테이블명으로 사용\n",
    "        print(file, table_name)\n",
    "        print(f\"📌 {file} → {table_name} 테이블로 업로드 중...\")\n",
    "            # CSV 파일 불러오기\n",
    "        df = pd.read_csv(file)\n",
    "    \n",
    "        # MySQL에 데이터 넣기 (자동으로 테이블 생성!)\n",
    "        df.to_sql(name=table_name, con=engine, if_exists=\"replace\", index=False)\n",
    "    \n",
    "        print(f\"✅ {table_name} 테이블 업로드 완료! \\n\")\n",
    "    \n",
    "print(\"🎉 모든 데이터 업로드 완료!\")\n"
   ]
  },
  {
   "cell_type": "code",
   "execution_count": null,
   "id": "14254c25-5be0-4172-8b42-2c9b9e48026c",
   "metadata": {},
   "outputs": [],
   "source": []
  }
 ],
 "metadata": {
  "kernelspec": {
   "display_name": "Python 3 (ipykernel)",
   "language": "python",
   "name": "python3"
  },
  "language_info": {
   "codemirror_mode": {
    "name": "ipython",
    "version": 3
   },
   "file_extension": ".py",
   "mimetype": "text/x-python",
   "name": "python",
   "nbconvert_exporter": "python",
   "pygments_lexer": "ipython3",
   "version": "3.12.1"
  }
 },
 "nbformat": 4,
 "nbformat_minor": 5
}
